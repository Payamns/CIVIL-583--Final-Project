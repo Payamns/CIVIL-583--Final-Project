{
 "cells": [
  {
   "cell_type": "code",
   "execution_count": 15,
   "metadata": {},
   "outputs": [],
   "source": [
    "## By: Payam Nasernejad\n",
    "\n",
    "\n",
    "##inputs are chicago travel time, impedance and observation\n",
    "##coincidence ratio and and trip distribution are the outputs\n",
    "\n",
    "import numpy as np\n",
    "import pandas as pd\n",
    "from numpy import exp\n"
   ]
  },
  {
   "cell_type": "code",
   "execution_count": 16,
   "metadata": {},
   "outputs": [],
   "source": [
    "tt_path = 'C:/Users/User/Desktop/583-chicago/2step/traveltime.csv' #path should be get from frontend\n",
    "imp_path = 'C:/Users/User/Desktop/583-chicago/2step/impedance.csv' #form of (exp(beta*tt))* (tt^gamma)\n",
    "\n",
    "### attraction and production should be copied from output of first step\n",
    "att_path = 'C:/Users/User/Desktop/583-chicago/1step/taz_attraction.csv'\n",
    "pro_path = 'C:/Users/User/Desktop/583-chicago/1step/taz_production.csv'\n",
    "attraction = pd.read_csv(att_path, header = None).values\n",
    "production = pd.read_csv(pro_path, header = None).values\n",
    "\n",
    "##inputs\n",
    "#Impedance function's parameters with general predefined form\n",
    "##production and attraction matrix(from a step or manually)\n",
    "###travel times within the study area(skim)(in minutes)\n",
    "\n",
    "skim = pd.read_csv(tt_path, header=None).values\n",
    "\n",
    "\n",
    "beta = pd.read_csv(imp_path)[\"Beta\"].values\n",
    "beta = -0.2\n",
    "gamma = pd.read_csv(imp_path)[\"Gamma\"].values\n",
    "\n",
    "def imp_func(tt):\n",
    "    f = (exp(beta*tt))*(tt**gamma)\n",
    "    return f\n",
    "\n",
    "imp_mat = np.zeros(skim.shape)\n",
    "\n",
    "for i in range(len(imp_mat)):\n",
    "    for j in range(len(imp_mat)):\n",
    "        imp_mat[i][j] = imp_func(skim[i][j])"
   ]
  },
  {
   "cell_type": "code",
   "execution_count": 17,
   "metadata": {},
   "outputs": [
    {
     "data": {
      "text/plain": [
       "array([[16605324.15706407],\n",
       "       [ 4169740.92766231],\n",
       "       [  324341.99524863],\n",
       "       [ 1401697.48440805],\n",
       "       [  167117.56817083],\n",
       "       [ 2233745.21524514],\n",
       "       [  620755.06700858],\n",
       "       [ 1460233.07048865],\n",
       "       [  324341.99524863],\n",
       "       [  324341.99524863],\n",
       "       [  324341.99524863]])"
      ]
     },
     "execution_count": 17,
     "metadata": {},
     "output_type": "execute_result"
    }
   ],
   "source": [
    "attraction"
   ]
  },
  {
   "cell_type": "code",
   "execution_count": 18,
   "metadata": {},
   "outputs": [],
   "source": [
    "a_inv = imp_mat.sum(axis = 1)\n",
    "initializer_mat = np.zeros(skim.shape )\n",
    "for i in range(len(imp_mat)):\n",
    "    for j in range(len(imp_mat)):\n",
    "        initializer_mat[i][j] = imp_mat[i][j]*production[i]/a_inv[i]\n",
    "#first we modify attration and the production in each loop\n",
    "modificaion_mat = initializer_mat.transpose()\n",
    "\n",
    "loop_check = True\n",
    "threshold = 0.001\n",
    "\n",
    "while loop_check:\n",
    "\n",
    "    #attraction\n",
    "    a_sum = modificaion_mat.sum(axis=1)\n",
    "    ratio = (attraction.transpose()/a_sum)[0]\n",
    "    modificaion_mat = ratio * modificaion_mat.transpose()\n",
    "    #production\n",
    "    p_sum = modificaion_mat.sum(axis=1)\n",
    "    ratio = (production.transpose()/p_sum)[0]\n",
    "    modificaion_mat = ratio * modificaion_mat.transpose()\n",
    "    \n",
    "    loop_check = (abs(p_sum - production.transpose()) > threshold).all()\n",
    "    \n",
    "trips = modificaion_mat.transpose()\n",
    "trips = np.ceil(trips)"
   ]
  },
  {
   "cell_type": "code",
   "execution_count": 19,
   "metadata": {},
   "outputs": [
    {
     "data": {
      "text/plain": [
       "(11, 11)"
      ]
     },
     "execution_count": 19,
     "metadata": {},
     "output_type": "execute_result"
    }
   ],
   "source": [
    "trips.shape"
   ]
  },
  {
   "cell_type": "code",
   "execution_count": 20,
   "metadata": {},
   "outputs": [],
   "source": [
    "### comparing to observations and modifying impedance function\n",
    "obs_path = 'C:/Users/User/Desktop/583-chicago/2step/observation.csv'\n",
    "observation = pd.read_csv(obs_path)\n",
    "time_steps = observation['Length<T(min)'].values\n",
    "obs_trips = observation['Trips'].values\n",
    "tot_obs = obs_trips.sum()\n",
    "percent_obs = obs_trips*100/tot_obs\n"
   ]
  },
  {
   "cell_type": "code",
   "execution_count": 21,
   "metadata": {},
   "outputs": [],
   "source": [
    "t_min = 0\n",
    "t_max = 0\n",
    "step_trips = np.zeros(len(time_steps))\n",
    "for i in range(len(time_steps)):\n",
    "    t_min = t_max\n",
    "    t_max = time_steps[i]\n",
    "    if t_max==t_min:\n",
    "        step_trips[i] = trips[skim>t_max].sum()\n",
    "    else:\n",
    "        step_trips[i] = trips[skim<t_max].sum() - trips[skim<t_min].sum()\n",
    "\n",
    "percent_trips = step_trips * 100 / step_trips.sum()\n",
    "\n",
    "\n",
    "##CR\n",
    "min_cr = np.min([percent_obs,percent_trips], axis = 0)\n",
    "max_cr = np.max([percent_obs,percent_trips], axis = 0)\n",
    "\n",
    "cr = min_cr.sum() / max_cr.sum()\n",
    "\n",
    "np.save('TripDistribution', trips)"
   ]
  },
  {
   "cell_type": "code",
   "execution_count": null,
   "metadata": {},
   "outputs": [],
   "source": []
  },
  {
   "cell_type": "code",
   "execution_count": 22,
   "metadata": {},
   "outputs": [
    {
     "data": {
      "text/plain": [
       "array([[1.642350e+07, 3.628820e+05, 4.800000e+01, 2.446000e+03,\n",
       "        4.100000e+01, 8.738000e+03, 3.000000e+01, 1.820000e+03,\n",
       "        2.390000e+02, 1.000000e+00, 9.640000e+02],\n",
       "       [3.996300e+04, 2.632140e+06, 2.330000e+02, 2.388570e+05,\n",
       "        2.380000e+02, 8.577000e+03, 3.880000e+02, 4.855000e+03,\n",
       "        2.600000e+01, 1.000000e+00, 1.000000e+00],\n",
       "       [2.010000e+02, 1.610600e+04, 8.524700e+04, 1.786000e+03,\n",
       "        8.717900e+04, 1.000000e+00, 1.000000e+00, 2.667000e+04,\n",
       "        1.000000e+00, 1.000000e+00, 1.000000e+00],\n",
       "       [8.370000e+02, 6.071940e+05, 4.400000e+01, 4.972840e+05,\n",
       "        1.103000e+03, 6.570000e+03, 3.975550e+05, 1.020000e+02,\n",
       "        1.000000e+00, 1.000000e+00, 1.000000e+00],\n",
       "       [6.060000e+02, 3.986800e+04, 1.727660e+05, 3.988000e+04,\n",
       "        6.499800e+04, 3.300000e+01, 2.400000e+01, 2.428700e+04,\n",
       "        3.000000e+00, 1.000000e+00, 1.000000e+00],\n",
       "       [2.700000e+01, 3.590000e+02, 1.000000e+00, 1.090000e+02,\n",
       "        1.000000e+00, 2.098409e+06, 7.810000e+02, 1.000000e+00,\n",
       "        1.000000e+00, 1.000000e+00, 1.000000e+00],\n",
       "       [1.600000e+01, 2.284000e+03, 1.000000e+00, 6.178230e+05,\n",
       "        1.000000e+00, 1.098820e+05, 2.219330e+05, 2.000000e+00,\n",
       "        1.000000e+00, 1.000000e+00, 1.000000e+00],\n",
       "       [4.166800e+04, 4.536550e+05, 6.560900e+04, 2.504000e+03,\n",
       "        1.354700e+04, 4.460000e+02, 1.400000e+01, 1.368798e+06,\n",
       "        1.100000e+02, 1.000000e+00, 1.900000e+01],\n",
       "       [4.570100e+04, 5.513200e+04, 3.970000e+02, 1.011000e+03,\n",
       "        1.400000e+01, 1.087000e+03, 3.300000e+01, 3.358500e+04,\n",
       "        2.200000e+02, 4.046000e+03, 1.605210e+05],\n",
       "       [2.000000e+02, 1.800000e+01, 1.000000e+00, 1.000000e+00,\n",
       "        1.000000e+00, 1.000000e+00, 1.000000e+00, 1.000000e+00,\n",
       "        4.700800e+04, 3.191480e+05, 1.154800e+04],\n",
       "       [5.261000e+04, 1.060000e+02, 1.000000e+00, 2.000000e+00,\n",
       "        1.000000e+00, 7.000000e+00, 1.000000e+00, 1.180000e+02,\n",
       "        2.767390e+05, 1.149000e+03, 1.512930e+05]])"
      ]
     },
     "execution_count": 22,
     "metadata": {},
     "output_type": "execute_result"
    }
   ],
   "source": [
    "trips"
   ]
  },
  {
   "cell_type": "code",
   "execution_count": 23,
   "metadata": {},
   "outputs": [
    {
     "data": {
      "text/plain": [
       "array([5.41181760e-01, 6.47854442e+01, 1.21417152e+01, 8.32187189e+00,\n",
       "       1.30990932e+01, 7.68502923e-01, 2.76870381e-01, 5.54763797e-02,\n",
       "       9.32893147e-03, 4.47130534e-04, 3.57704428e-05, 3.21933985e-05])"
      ]
     },
     "execution_count": 23,
     "metadata": {},
     "output_type": "execute_result"
    }
   ],
   "source": [
    "percent_trips\n"
   ]
  },
  {
   "cell_type": "code",
   "execution_count": 24,
   "metadata": {},
   "outputs": [
    {
     "data": {
      "image/png": "[encoded data removed]",
      "text/plain": [
       "<Figure size 432x288 with 1 Axes>"
      ]
     },
     "metadata": {
      "needs_background": "light"
     },
     "output_type": "display_data"
    }
   ],
   "source": [
    "####histogram\n",
    "%matplotlib inline\n",
    "from matplotlib import pyplot as plt\n",
    "\n",
    "barwidth = 0.35\n",
    "\n",
    "r1 = np.arange(len(percent_obs))\n",
    "r2 = r1 + barwidth\n",
    "\n",
    "plt.bar(r1, percent_obs, color='red', width=barwidth, edgecolor='white', label='Observed')\n",
    "plt.bar(r2, percent_trips, color='green', width=barwidth, edgecolor='white', label='Modeled')\n",
    "plt.xlabel('Time(min)', fontweight='bold')\n",
    "plt.ylabel('Percetage', fontweight='bold')\n",
    "\n",
    "plt.xticks([r + barwidth/2 for r in range(len(percent_obs))], time_steps)\n",
    "\n",
    "\n",
    "plt.legend()\n",
    "\n",
    "plt.show()\n",
    "\n",
    "###save trips \n",
    "from numpy import savetxt\n",
    "savetxt(\"trip_distribution.csv\", trips, delimiter = ',')\n"
   ]
  },
  {
   "cell_type": "code",
   "execution_count": 25,
   "metadata": {},
   "outputs": [],
   "source": [
    "###save trips \n",
    "from numpy import savetxt\n",
    "savetxt(\"trip_distribution.csv\", trips, delimiter = ',')\n"
   ]
  },
  {
   "cell_type": "code",
   "execution_count": 126,
   "metadata": {},
   "outputs": [
    {
     "data": {
      "text/plain": [
       "0.3880870788086173"
      ]
     },
     "execution_count": 126,
     "metadata": {},
     "output_type": "execute_result"
    }
   ],
   "source": [
    "cr"
   ]
  },
  {
   "cell_type": "code",
   "execution_count": 12,
   "metadata": {},
   "outputs": [
    {
     "data": {
      "text/plain": [
       "array([[1.64234995e+07, 3.62881730e+05, 4.78563476e+01, 2.44584151e+03,\n",
       "        4.00696701e+01, 8.73723074e+03, 2.93213570e+01, 1.81925701e+03,\n",
       "        2.38506037e+02, 2.98120610e-01, 9.63466637e+02],\n",
       "       [3.99625973e+04, 2.63213988e+06, 2.32683516e+02, 2.38856919e+05,\n",
       "        2.37958231e+02, 8.57686752e+03, 3.87529365e+02, 4.85448804e+03,\n",
       "        2.59421767e+01, 1.78882449e-04, 1.75026745e-03],\n",
       "       [2.00200899e+02, 1.61057213e+04, 8.52464167e+04, 1.78512214e+03,\n",
       "        8.71788722e+04, 4.31903181e-01, 8.72331084e-01, 2.66696383e+04,\n",
       "        1.44002778e-02, 4.91816801e-07, 4.78734429e-04],\n",
       "       [8.36306129e+02, 6.07193752e+05, 4.39465767e+01, 4.97283460e+05,\n",
       "        1.10256070e+03, 6.56901736e+03, 3.97554427e+05, 1.01590947e+02,\n",
       "        1.09609151e-01, 1.85417396e-05, 2.70648082e-04],\n",
       "       [6.05290993e+02, 3.98675428e+04, 1.72765303e+05, 3.98799942e+04,\n",
       "        6.49975758e+04, 3.20351626e+01, 2.38027643e+01, 2.42863324e+04,\n",
       "        2.90339338e+00, 2.20685581e-04, 1.17893149e-01],\n",
       "       [2.69926564e+01, 3.58946492e+02, 1.16732526e-02, 1.08146371e+02,\n",
       "        1.19378742e-02, 2.09840827e+06, 7.80283443e+02, 5.42007489e-01,\n",
       "        1.75225914e-02, 8.05742880e-06, 3.90484978e-04],\n",
       "       [1.55807411e+01, 2.28390983e+03, 9.07193692e-02, 6.17822428e+05,\n",
       "        4.59521998e-01, 1.09881788e+05, 2.21932376e+05, 1.89268282e+00,\n",
       "        7.47359882e-02, 2.08979351e-06, 2.75299683e-04],\n",
       "       [4.16677771e+04, 4.53654813e+05, 6.56086864e+04, 2.50339762e+03,\n",
       "        1.35464434e+04, 4.45237650e+02, 1.34849706e+01, 1.36879736e+06,\n",
       "        1.09689565e+02, 1.86515255e-04, 1.80617687e+01],\n",
       "       [4.57004561e+04, 5.51312533e+04, 3.96963192e+02, 1.01007949e+03,\n",
       "        1.35482785e+01, 1.08679510e+03, 3.29159043e+01, 3.35846116e+04,\n",
       "        2.19210931e+02, 4.04558991e+03, 1.60520615e+05],\n",
       "       [1.99914553e+02, 1.79124952e+01, 9.57949924e-03, 1.47461345e-01,\n",
       "        9.79665741e-03, 5.26773215e-01, 3.93431864e-03, 2.98152474e-01,\n",
       "        4.70074275e+04, 3.19147652e+05, 1.15472678e+04],\n",
       "       [5.26097107e+04, 1.05452908e+02, 2.53401800e-02, 1.93204061e+00,\n",
       "        5.76740427e-02, 6.90179003e+00, 4.22035218e-02, 1.17051697e+02,\n",
       "        2.76738102e+05, 1.14845759e+03, 1.51292465e+05]])"
      ]
     },
     "execution_count": 12,
     "metadata": {},
     "output_type": "execute_result"
    }
   ],
   "source": [
    "trips"
   ]
  },
  {
   "cell_type": "code",
   "execution_count": 13,
   "metadata": {},
   "outputs": [
    {
     "data": {
      "text/plain": [
       "array([[1.642350e+07, 3.628820e+05, 4.800000e+01, 2.446000e+03,\n",
       "        4.100000e+01, 8.738000e+03, 3.000000e+01, 1.820000e+03,\n",
       "        2.390000e+02, 1.000000e+00, 9.640000e+02],\n",
       "       [3.996300e+04, 2.632140e+06, 2.330000e+02, 2.388570e+05,\n",
       "        2.380000e+02, 8.577000e+03, 3.880000e+02, 4.855000e+03,\n",
       "        2.600000e+01, 1.000000e+00, 1.000000e+00],\n",
       "       [2.010000e+02, 1.610600e+04, 8.524700e+04, 1.786000e+03,\n",
       "        8.717900e+04, 1.000000e+00, 1.000000e+00, 2.667000e+04,\n",
       "        1.000000e+00, 1.000000e+00, 1.000000e+00],\n",
       "       [8.370000e+02, 6.071940e+05, 4.400000e+01, 4.972840e+05,\n",
       "        1.103000e+03, 6.570000e+03, 3.975550e+05, 1.020000e+02,\n",
       "        1.000000e+00, 1.000000e+00, 1.000000e+00],\n",
       "       [6.060000e+02, 3.986800e+04, 1.727660e+05, 3.988000e+04,\n",
       "        6.499800e+04, 3.300000e+01, 2.400000e+01, 2.428700e+04,\n",
       "        3.000000e+00, 1.000000e+00, 1.000000e+00],\n",
       "       [2.700000e+01, 3.590000e+02, 1.000000e+00, 1.090000e+02,\n",
       "        1.000000e+00, 2.098409e+06, 7.810000e+02, 1.000000e+00,\n",
       "        1.000000e+00, 1.000000e+00, 1.000000e+00],\n",
       "       [1.600000e+01, 2.284000e+03, 1.000000e+00, 6.178230e+05,\n",
       "        1.000000e+00, 1.098820e+05, 2.219330e+05, 2.000000e+00,\n",
       "        1.000000e+00, 1.000000e+00, 1.000000e+00],\n",
       "       [4.166800e+04, 4.536550e+05, 6.560900e+04, 2.504000e+03,\n",
       "        1.354700e+04, 4.460000e+02, 1.400000e+01, 1.368798e+06,\n",
       "        1.100000e+02, 1.000000e+00, 1.900000e+01],\n",
       "       [4.570100e+04, 5.513200e+04, 3.970000e+02, 1.011000e+03,\n",
       "        1.400000e+01, 1.087000e+03, 3.300000e+01, 3.358500e+04,\n",
       "        2.200000e+02, 4.046000e+03, 1.605210e+05],\n",
       "       [2.000000e+02, 1.800000e+01, 1.000000e+00, 1.000000e+00,\n",
       "        1.000000e+00, 1.000000e+00, 1.000000e+00, 1.000000e+00,\n",
       "        4.700800e+04, 3.191480e+05, 1.154800e+04],\n",
       "       [5.261000e+04, 1.060000e+02, 1.000000e+00, 2.000000e+00,\n",
       "        1.000000e+00, 7.000000e+00, 1.000000e+00, 1.180000e+02,\n",
       "        2.767390e+05, 1.149000e+03, 1.512930e+05]])"
      ]
     },
     "execution_count": 13,
     "metadata": {},
     "output_type": "execute_result"
    }
   ],
   "source": [
    "np.ceil(trips)"
   ]
  },
  {
   "cell_type": "code",
   "execution_count": 11,
   "metadata": {},
   "outputs": [
    {
     "data": {
      "text/plain": [
       "0.0"
      ]
     },
     "execution_count": 11,
     "metadata": {},
     "output_type": "execute_result"
    }
   ],
   "source": [
    "trips[skim<2].sum()"
   ]
  },
  {
   "cell_type": "code",
   "execution_count": 12,
   "metadata": {},
   "outputs": [
    {
     "data": {
      "text/plain": [
       "0.0"
      ]
     },
     "execution_count": 12,
     "metadata": {},
     "output_type": "execute_result"
    }
   ],
   "source": [
    "trips[skim<4].sum()"
   ]
  },
  {
   "cell_type": "code",
   "execution_count": 13,
   "metadata": {},
   "outputs": [
    {
     "data": {
      "text/plain": [
       "array([ 7.11610487, 22.47191011, 16.85393258, 15.917603  , 11.32958801,\n",
       "        7.9588015 ,  6.27340824,  4.3071161 ,  2.80898876,  2.24719101,\n",
       "        1.87265918,  0.84269663])"
      ]
     },
     "execution_count": 13,
     "metadata": {},
     "output_type": "execute_result"
    }
   ],
   "source": [
    "percent_obs"
   ]
  },
  {
   "cell_type": "code",
   "execution_count": 14,
   "metadata": {},
   "outputs": [
    {
     "ename": "NameError",
     "evalue": "name 'a' is not defined",
     "output_type": "error",
     "traceback": [
      "\u001b[1;31m---------------------------------------------------------------------------\u001b[0m",
      "\u001b[1;31mNameError\u001b[0m                                 Traceback (most recent call last)",
      "\u001b[1;32m<ipython-input-14-e15f62802143>\u001b[0m in \u001b[0;36m<module>\u001b[1;34m\u001b[0m\n\u001b[0;32m      1\u001b[0m \u001b[0ma_sum\u001b[0m \u001b[1;33m=\u001b[0m \u001b[0mmodificaion_mat\u001b[0m\u001b[1;33m.\u001b[0m\u001b[0msum\u001b[0m\u001b[1;33m(\u001b[0m\u001b[0maxis\u001b[0m\u001b[1;33m=\u001b[0m\u001b[1;36m1\u001b[0m\u001b[1;33m)\u001b[0m\u001b[1;33m\u001b[0m\u001b[1;33m\u001b[0m\u001b[0m\n\u001b[1;32m----> 2\u001b[1;33m \u001b[0mratio\u001b[0m \u001b[1;33m=\u001b[0m \u001b[1;33m(\u001b[0m\u001b[0mattraction\u001b[0m\u001b[1;33m.\u001b[0m\u001b[0mtranspose\u001b[0m\u001b[1;33m(\u001b[0m\u001b[1;33m)\u001b[0m\u001b[1;33m/\u001b[0m\u001b[0ma\u001b[0m\u001b[1;33m)\u001b[0m\u001b[1;33m[\u001b[0m\u001b[1;36m0\u001b[0m\u001b[1;33m]\u001b[0m\u001b[1;33m\u001b[0m\u001b[1;33m\u001b[0m\u001b[0m\n\u001b[0m",
      "\u001b[1;31mNameError\u001b[0m: name 'a' is not defined"
     ]
    }
   ],
   "source": [
    "a_sum = modificaion_mat.sum(axis=1)\n",
    "ratio = (attraction.transpose()/a)[0]\n"
   ]
  },
  {
   "cell_type": "code",
   "execution_count": 15,
   "metadata": {},
   "outputs": [
    {
     "data": {
      "text/plain": [
       "array([1.0000012 , 0.99999973, 0.99999973, 1.        , 0.99999973,\n",
       "       0.99999342, 0.99999336, 0.99999973, 0.99999974, 1.00000099,\n",
       "       1.0000012 ])"
      ]
     },
     "execution_count": 15,
     "metadata": {},
     "output_type": "execute_result"
    }
   ],
   "source": [
    "ratio"
   ]
  },
  {
   "cell_type": "code",
   "execution_count": 16,
   "metadata": {},
   "outputs": [
    {
     "data": {
      "text/plain": [
       "array([[5.53461007e-12, 3.08493835e-18, 3.66980264e-31, 6.53748667e-30,\n",
       "        2.07466047e-27, 1.70739309e-29, 2.04551265e-37, 5.45685189e-22,\n",
       "        5.41838343e-27, 1.69535670e-34, 3.08493835e-18],\n",
       "       [1.18120095e-18, 2.13420807e-07, 2.52092860e-25, 8.05692261e-18,\n",
       "        3.72209601e-21, 5.41838343e-27, 1.70739309e-29, 2.10422364e-17,\n",
       "        4.45919250e-29, 2.01677433e-47, 2.97772325e-43],\n",
       "       [5.38018616e-32, 1.71951493e-24, 8.17173088e-08, 2.50315714e-30,\n",
       "        3.77513454e-11, 6.35508100e-50, 1.67153788e-44, 3.74852147e-16,\n",
       "        5.26720242e-47, 5.15659133e-62, 2.95673158e-48],\n",
       "       [2.50315714e-30, 3.08493835e-18, 2.06003501e-32, 1.19803264e-08,\n",
       "        1.42516408e-21, 3.66980264e-31, 1.18120095e-18, 4.45919250e-29,\n",
       "        4.36554960e-44, 9.25131041e-56, 9.31699119e-51],\n",
       "       [7.94372734e-28, 9.72098502e-21, 5.53461007e-12, 5.45685189e-22,\n",
       "        9.92950431e-06, 4.39654334e-39, 9.51684463e-36, 1.74401740e-14,\n",
       "        4.42775712e-34, 2.01677433e-47, 6.49140020e-35],\n",
       "       [2.06003501e-32, 1.16460573e-28, 1.67153788e-44, 2.06003501e-32,\n",
       "        2.46798917e-40, 6.72512781e-10, 1.41511729e-26, 6.49140020e-35,\n",
       "        7.77690931e-43, 2.00255694e-52, 6.40019965e-45],\n",
       "       [2.99886395e-38, 1.70739309e-29, 6.40019965e-45, 4.52273440e-19,\n",
       "        2.04551265e-37, 6.58390033e-25, 6.72512781e-10, 5.34225816e-37,\n",
       "        1.67153788e-44, 6.26579565e-60, 2.43331530e-50],\n",
       "       [3.72209601e-21, 8.05692261e-18, 3.74852147e-16, 6.53748667e-30,\n",
       "        2.55685093e-15, 9.51684463e-36, 4.39654334e-39, 3.12889762e-08,\n",
       "        1.16460573e-28, 6.35508100e-50, 1.41511729e-26],\n",
       "       [6.58390033e-25, 3.69585683e-26, 9.58441060e-31, 9.51684463e-36,\n",
       "        1.15639576e-33, 7.83212240e-38, 3.61824395e-41, 6.63064351e-20,\n",
       "        5.57390369e-07, 1.18120095e-18, 1.44547216e-11],\n",
       "       [1.15639576e-33, 2.46798917e-40, 2.43331530e-50, 1.36593577e-51,\n",
       "        3.59273689e-46, 3.56740964e-51, 1.98843978e-57, 1.38539987e-41,\n",
       "        2.10422364e-17, 5.57390369e-07, 1.74401740e-14],\n",
       "       [2.10422364e-17, 5.38018616e-32, 1.14014905e-43, 1.38539987e-41,\n",
       "        7.83212240e-38, 3.61824395e-41, 7.72208545e-48, 1.71951493e-24,\n",
       "        4.58718175e-09, 4.55484409e-14, 9.92950431e-06]])"
      ]
     },
     "execution_count": 16,
     "metadata": {},
     "output_type": "execute_result"
    }
   ],
   "source": [
    "imp_mat"
   ]
  },
  {
   "cell_type": "code",
   "execution_count": null,
   "metadata": {},
   "outputs": [],
   "source": []
  },
  {
   "cell_type": "code",
   "execution_count": 17,
   "metadata": {},
   "outputs": [
    {
     "data": {
      "text/plain": [
       "array([[17826472.51041811],\n",
       "       [ 4476381.87122749],\n",
       "       [  348193.96523579],\n",
       "       [ 1504777.71089416],\n",
       "       [  179407.32182201],\n",
       "       [ 2398013.87182831],\n",
       "       [  666405.12603445],\n",
       "       [ 1567617.97864666],\n",
       "       [  348193.96523579],\n",
       "       [  348193.96523579],\n",
       "       [  348193.96523579]])"
      ]
     },
     "execution_count": 17,
     "metadata": {},
     "output_type": "execute_result"
    }
   ],
   "source": [
    "attraction"
   ]
  },
  {
   "cell_type": "code",
   "execution_count": 18,
   "metadata": {},
   "outputs": [
    {
     "data": {
      "text/plain": [
       "array([[16800703.05816244],\n",
       "       [ 2925274.86243523],\n",
       "       [  858685.36979744],\n",
       "       [ 1510685.17108463],\n",
       "       [  342460.89918261],\n",
       "       [ 2099683.22678979],\n",
       "       [  951938.60095744],\n",
       "       [ 1946364.95401245],\n",
       "       [  858685.36979744],\n",
       "       [  858685.36979744],\n",
       "       [  858685.36979744]])"
      ]
     },
     "execution_count": 18,
     "metadata": {},
     "output_type": "execute_result"
    }
   ],
   "source": [
    "production"
   ]
  },
  {
   "cell_type": "code",
   "execution_count": null,
   "metadata": {},
   "outputs": [],
   "source": []
  },
  {
   "cell_type": "code",
   "execution_count": 19,
   "metadata": {
    "scrolled": true
   },
   "outputs": [
    {
     "data": {
      "text/plain": [
       "array([[5.53461007e-12, 3.08493835e-18, 3.66980264e-31, 6.53748667e-30,\n",
       "        2.07466047e-27, 1.70739309e-29, 2.04551265e-37, 5.45685189e-22,\n",
       "        5.41838343e-27, 1.69535670e-34, 3.08493835e-18],\n",
       "       [1.18120095e-18, 2.13420807e-07, 2.52092860e-25, 8.05692261e-18,\n",
       "        3.72209601e-21, 5.41838343e-27, 1.70739309e-29, 2.10422364e-17,\n",
       "        4.45919250e-29, 2.01677433e-47, 2.97772325e-43],\n",
       "       [5.38018616e-32, 1.71951493e-24, 8.17173088e-08, 2.50315714e-30,\n",
       "        3.77513454e-11, 6.35508100e-50, 1.67153788e-44, 3.74852147e-16,\n",
       "        5.26720242e-47, 5.15659133e-62, 2.95673158e-48],\n",
       "       [2.50315714e-30, 3.08493835e-18, 2.06003501e-32, 1.19803264e-08,\n",
       "        1.42516408e-21, 3.66980264e-31, 1.18120095e-18, 4.45919250e-29,\n",
       "        4.36554960e-44, 9.25131041e-56, 9.31699119e-51],\n",
       "       [7.94372734e-28, 9.72098502e-21, 5.53461007e-12, 5.45685189e-22,\n",
       "        9.92950431e-06, 4.39654334e-39, 9.51684463e-36, 1.74401740e-14,\n",
       "        4.42775712e-34, 2.01677433e-47, 6.49140020e-35],\n",
       "       [2.06003501e-32, 1.16460573e-28, 1.67153788e-44, 2.06003501e-32,\n",
       "        2.46798917e-40, 6.72512781e-10, 1.41511729e-26, 6.49140020e-35,\n",
       "        7.77690931e-43, 2.00255694e-52, 6.40019965e-45],\n",
       "       [2.99886395e-38, 1.70739309e-29, 6.40019965e-45, 4.52273440e-19,\n",
       "        2.04551265e-37, 6.58390033e-25, 6.72512781e-10, 5.34225816e-37,\n",
       "        1.67153788e-44, 6.26579565e-60, 2.43331530e-50],\n",
       "       [3.72209601e-21, 8.05692261e-18, 3.74852147e-16, 6.53748667e-30,\n",
       "        2.55685093e-15, 9.51684463e-36, 4.39654334e-39, 3.12889762e-08,\n",
       "        1.16460573e-28, 6.35508100e-50, 1.41511729e-26],\n",
       "       [6.58390033e-25, 3.69585683e-26, 9.58441060e-31, 9.51684463e-36,\n",
       "        1.15639576e-33, 7.83212240e-38, 3.61824395e-41, 6.63064351e-20,\n",
       "        5.57390369e-07, 1.18120095e-18, 1.44547216e-11],\n",
       "       [1.15639576e-33, 2.46798917e-40, 2.43331530e-50, 1.36593577e-51,\n",
       "        3.59273689e-46, 3.56740964e-51, 1.98843978e-57, 1.38539987e-41,\n",
       "        2.10422364e-17, 5.57390369e-07, 1.74401740e-14],\n",
       "       [2.10422364e-17, 5.38018616e-32, 1.14014905e-43, 1.38539987e-41,\n",
       "        7.83212240e-38, 3.61824395e-41, 7.72208545e-48, 1.71951493e-24,\n",
       "        4.58718175e-09, 4.55484409e-14, 9.92950431e-06]])"
      ]
     },
     "execution_count": 19,
     "metadata": {},
     "output_type": "execute_result"
    }
   ],
   "source": [
    "imp_mat"
   ]
  },
  {
   "cell_type": "code",
   "execution_count": null,
   "metadata": {},
   "outputs": [],
   "source": [
    "\n",
    "\n",
    "\n",
    "\n"
   ]
  }
 ],
 "metadata": {
  "kernelspec": {
   "display_name": "Python 3",
   "language": "python",
   "name": "python3"
  },
  "language_info": {
   "codemirror_mode": {
    "name": "ipython",
    "version": 3
   },
   "file_extension": ".py",
   "mimetype": "text/x-python",
   "name": "python",
   "nbconvert_exporter": "python",
   "pygments_lexer": "ipython3",
   "version": "3.7.4"
  }
 },
 "nbformat": 4,
 "nbformat_minor": 2
}
