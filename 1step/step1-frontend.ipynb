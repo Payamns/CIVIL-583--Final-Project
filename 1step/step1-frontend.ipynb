{
 "cells": [
  {
   "cell_type": "code",
   "execution_count": 1,
   "metadata": {},
   "outputs": [],
   "source": [
    "\n",
    "##By Payam Nasernejad\n",
    "\n",
    "##Inputs are chicaco_unput_1 which is exctracted data from household travel survey and Chicago_att\n",
    "## some inputs are defined as python lists\n",
    "\n",
    "##taz_production and taz_attraction are the outputs of this part which will be saved as csv file in the same directory\n",
    "\n",
    "\n",
    "#import pandas as pd\n",
    "import pandas as pd\n",
    "import numpy as np\n",
    "\n",
    "##put inputes to the directory before running the code\n",
    "path = 'F:/CIVIL 583/Project/Codes/1step/chicago_input_1.csv'\n",
    "attr_path = 'F:/CIVIL 583/Project/Codes/1step/Chicago_att.csv' \n",
    "\n",
    "max_veh_no = 3\n",
    "min_veh_no = 0\n",
    "max_person_no = 4\n",
    "min_person_no = 1\n",
    "#max_zone_no = 10 ###you should\n",
    "#min_zone_no = 1 ##from file\n",
    "\n",
    "\n",
    "def generative_func(path,attr_path,max_veh_no, min_veh_no ,max_person_no, min_person_no):\n",
    "    import pandas as pd\n",
    "    import numpy as np\n",
    "    \n",
    "    ##outputs of the model; I know it's not professional to get outputs like this, but I prefer it.\n",
    "    global len_veh\n",
    "    global len_person\n",
    "    global len_zone\n",
    "    global taz_data\n",
    "    global cca\n",
    "    global mca\n",
    "    global persons\n",
    "    global vehicles   \n",
    "    global hbs_trips\n",
    "    \n",
    "    df = pd.read_csv(attr_path)\n",
    "    max_zone_no = df[\"Area\"].max()\n",
    "    min_zone_no = df[\"Area\"].min()\n",
    "    \n",
    "    \n",
    "    df = pd.read_csv(path)#remember to change directory everytime\n",
    "    #reading HTS with persons vehicles and trips\n",
    "    persons = df[\"persons\"]\n",
    "    vehicles = df[\"vehicles\"]\n",
    "    hbs_trips = df[\"trips\"]\n",
    "    zones = df[\"ZONE_ID\"]\n",
    "\n",
    "\n",
    "    \n",
    "    len_veh = max_veh_no - min_veh_no +1\n",
    "    len_person = max_person_no - min_person_no +1 \n",
    "    len_zone = max_zone_no - min_zone_no + 1\n",
    "\n",
    "    taz_data = np.zeros((len_person,len_veh,len_zone))\n",
    "    cca_sum_matrix = np.zeros((len_person,len_veh))\n",
    "    cca_count_matrix = np.zeros((len_person,len_veh))\n",
    "    \n",
    "\n",
    "\n",
    "\n",
    "    for i in range(len(persons)):\n",
    "        person_no = min_person_no\n",
    "        while person_no <= max_person_no:\n",
    "            if persons[i] == person_no:\n",
    "                \n",
    "                veh_no = min_veh_no\n",
    "                while veh_no <= max_veh_no:\n",
    "                    if  vehicles[i] == veh_no:\n",
    "                        #####\n",
    "                        cca_sum_matrix[person_no - min_person_no][veh_no - min_veh_no] += hbs_trips[i]\n",
    "                        cca_count_matrix[person_no - min_person_no][veh_no - min_veh_no] += 1\n",
    "                        \n",
    "                        zone_no = min_zone_no\n",
    "                        while zone_no <= max_zone_no:\n",
    "                            if zones[i] == zone_no:\n",
    "                                ##taz data\n",
    "                                taz_data[person_no - min_person_no][veh_no - min_veh_no][zone_no - min_zone_no] += 1\n",
    "                                \n",
    "                                break\n",
    "                            zone_no +=1\n",
    "                        \n",
    "                        break\n",
    "                    veh_no += 1\n",
    "    \n",
    "                break           \n",
    "            person_no += 1\n",
    "        \n",
    "        \n",
    "    ##cca calculation    \n",
    "    cca = cca_sum_matrix/cca_count_matrix \n",
    "        \n",
    "        \n",
    "    horizontal_margins= cca_sum_matrix.sum(axis = 0)/cca_count_matrix.sum(axis = 0)\n",
    "    vertical_margins = cca_sum_matrix.sum(axis = 1)/cca_count_matrix.sum(axis = 1)\n",
    "    grand_total = cca_sum_matrix.sum()/cca_count_matrix.sum()\n",
    "    \n",
    "    mca_vertical_margins = -grand_total + vertical_margins\n",
    "    mca_horizontal_margins = -grand_total + horizontal_margins\n",
    "    \n",
    "    \n",
    "    ####mca computation\n",
    "    mca = np.zeros((len_person,len_veh))\n",
    "\n",
    "    for i in range(len_person):\n",
    "        for j in range(len_veh):\n",
    "            if (grand_total + mca_vertical_margins[i] + mca_horizontal_margins[j]) > 0:\n",
    "                mca[i][j] = grand_total + mca_vertical_margins[i] + mca_horizontal_margins[j]\n",
    "            else:\n",
    "                mca[i][j] = 0   \n",
    "    \n",
    "\n",
    "###linear_regression\n",
    "##input could be (1,0) (0,1) (1,1) (person,vehicle)\n",
    "input_variable = [1,1]\n",
    "def lin_reg(input_variable):\n",
    "    import statsmodels.api as sm\n",
    "\n",
    "    ###the input variables should be selected by user\n",
    "    \n",
    "    if input_variable == [1,1]:\n",
    "        x_variables=[persons, vehicles]\n",
    "    elif input_variable == [1,0]:\n",
    "        x_variables=[persons]\n",
    "    elif input_variable == [0,1]:\n",
    "        x_variables=[vehicles]\n",
    "    \n",
    "    X = pd.concat(x_variables, axis = 1)\n",
    "    y_variable = [hbs_trips]\n",
    "    y = pd.concat(y_variable)\n",
    "    \n",
    "    X2 = sm.add_constant(X)\n",
    "    model = sm.OLS(y, X2)\n",
    "    result = model.fit()\n",
    "    #model.predict(pd.DataFrame({\"const\":0.5, 'persons': [2,3,4], 'vehicles': [0.5, 0.75, 1.0]}))\n",
    "    print(result.summary())\n",
    "\n",
    "    regression_matrix = np.zeros([len_person, len_veh])\n",
    "    for i in range(len_person):\n",
    "        for j in range(len_veh):\n",
    "            \n",
    "            if input_variable == [1,1]:\n",
    "                in_x = [1,i + min_person_no,j + min_veh_no]\n",
    "            elif input_variable == [1,0]:\n",
    "                in_x = [1,i + min_person_no]\n",
    "            elif input_variable == [0,1]:\n",
    "                in_x = [1,j + min_veh_no]\n",
    "            \n",
    "            \n",
    "            regression_matrix[i][j] = result.predict(in_x)\n",
    "    \n"
   ]
  },
  {
   "cell_type": "code",
   "execution_count": 9,
   "metadata": {},
   "outputs": [],
   "source": [
    "generative_func(path,attr_path,max_veh_no,min_veh_no,max_person_no,min_person_no)"
   ]
  },
  {
   "cell_type": "code",
   "execution_count": 12,
   "metadata": {},
   "outputs": [
    {
     "data": {
      "text/plain": [
       "array([[ 0.        ,  1.97251592,  5.7928714 ,  6.67610981],\n",
       "       [ 3.55271   ,  5.63331604,  9.45367152, 10.33690994],\n",
       "       [ 6.76306086,  8.8436669 , 12.66402238, 13.5472608 ],\n",
       "       [11.34439782, 13.42500386, 17.24535934, 18.12859775]])"
      ]
     },
     "execution_count": 12,
     "metadata": {},
     "output_type": "execute_result"
    }
   ],
   "source": [
    "mca\n"
   ]
  },
  {
   "cell_type": "code",
   "execution_count": 13,
   "metadata": {},
   "outputs": [
    {
     "data": {
      "text/plain": [
       "array([[ 2.78689567,  4.13749601,  4.3356974 ,  4.63541667],\n",
       "       [ 4.84855769,  6.95599112,  7.98945736,  7.8183391 ],\n",
       "       [ 6.57142857,  9.96579805, 11.24912281, 11.0741483 ],\n",
       "       [ 8.87878788, 14.44615385, 15.82448037, 15.41691843]])"
      ]
     },
     "execution_count": 13,
     "metadata": {},
     "output_type": "execute_result"
    }
   ],
   "source": [
    "cca"
   ]
  },
  {
   "cell_type": "code",
   "execution_count": 14,
   "metadata": {},
   "outputs": [
    {
     "name": "stdout",
     "output_type": "stream",
     "text": [
      "                            OLS Regression Results                            \n",
      "==============================================================================\n",
      "Dep. Variable:                  trips   R-squared:                       0.459\n",
      "Model:                            OLS   Adj. R-squared:                  0.459\n",
      "Method:                 Least Squares   F-statistic:                     6099.\n",
      "Date:                Mon, 06 Apr 2020   Prob (F-statistic):               0.00\n",
      "Time:                        16:43:40   Log-Likelihood:                -43343.\n",
      "No. Observations:               14390   AIC:                         8.669e+04\n",
      "Df Residuals:                   14387   BIC:                         8.672e+04\n",
      "Df Model:                           2                                         \n",
      "Covariance Type:            nonrobust                                         \n",
      "==============================================================================\n",
      "                 coef    std err          t      P>|t|      [0.025      0.975]\n",
      "------------------------------------------------------------------------------\n",
      "const         -0.1094      0.094     -1.159      0.247      -0.294       0.076\n",
      "persons        3.4352      0.037     93.471      0.000       3.363       3.507\n",
      "vehicles       0.5031      0.046     11.003      0.000       0.413       0.593\n",
      "==============================================================================\n",
      "Omnibus:                     3269.430   Durbin-Watson:                   1.986\n",
      "Prob(Omnibus):                  0.000   Jarque-Bera (JB):            15074.906\n",
      "Skew:                           1.036   Prob(JB):                         0.00\n",
      "Kurtosis:                       7.566   Cond. No.                         7.86\n",
      "==============================================================================\n",
      "\n",
      "Warnings:\n",
      "[1] Standard Errors assume that the covariance matrix of the errors is correctly specified.\n"
     ]
    }
   ],
   "source": [
    "##[person, vehicle] 1: include that one\n",
    "input_variable=[1,1]\n",
    "lin_reg(input_variable)"
   ]
  },
  {
   "cell_type": "code",
   "execution_count": 18,
   "metadata": {},
   "outputs": [],
   "source": [
    "###production matrix; it could be cca, mca or regression matrix  \n",
    "generative_matrix = mca ##it could be anythiong by this dimension "
   ]
  },
  {
   "cell_type": "code",
   "execution_count": 24,
   "metadata": {},
   "outputs": [],
   "source": [
    "##poplation info from attached excel file\n",
    "taz_distr_pop = np.array([[113034.826\n",
    ",318633.604\n",
    ",315963.49\n",
    ",142406.08\n",
    "],[119272.431\n",
    ",336216.774\n",
    ",333399.315\n",
    ",150264.48\n",
    "],[61757.179\n",
    ",174087.166\n",
    ",172628.335\n",
    ",77804.32\n",
    "],[99012.375\n",
    ",279105.75\n",
    ",276766.875\n",
    ",124740\n",
    "]])\n",
    "\n",
    "taz_distr = taz_distr_pop / taz_distr_pop.sum()\n",
    "\n",
    "taz_hh = np.array([1956561.00,\n",
    "340669.00,\n",
    "25293.00,\n",
    "175930.00,\n",
    "39882.00,\n",
    "244523.00,\n",
    "110860.00,\n",
    "226668.00,\n",
    "35140.00,\n",
    "44011.60,\n",
    "56134.67\n",
    "])"
   ]
  },
  {
   "cell_type": "code",
   "execution_count": 25,
   "metadata": {},
   "outputs": [
    {
     "data": {
      "text/plain": [
       "0.9999999999999999"
      ]
     },
     "execution_count": 25,
     "metadata": {},
     "output_type": "execute_result"
    }
   ],
   "source": [
    "taz_distr.sum()"
   ]
  },
  {
   "cell_type": "code",
   "execution_count": null,
   "metadata": {},
   "outputs": [],
   "source": []
  },
  {
   "cell_type": "code",
   "execution_count": 28,
   "metadata": {},
   "outputs": [
    {
     "data": {
      "text/plain": [
       "array([[ 2.78689567,  4.13749601,  4.3356974 ,  4.63541667],\n",
       "       [ 4.84855769,  6.95599112,  7.98945736,  7.8183391 ],\n",
       "       [ 6.57142857,  9.96579805, 11.24912281, 11.0741483 ],\n",
       "       [ 8.87878788, 14.44615385, 15.82448037, 15.41691843]])"
      ]
     },
     "execution_count": 28,
     "metadata": {},
     "output_type": "execute_result"
    }
   ],
   "source": [
    "cca"
   ]
  },
  {
   "cell_type": "code",
   "execution_count": 31,
   "metadata": {},
   "outputs": [
    {
     "name": "stdout",
     "output_type": "stream",
     "text": [
      "27955981.471042123\n",
      "27955981.47104213\n"
     ]
    }
   ],
   "source": [
    "###production matrix; it could be cca, mca or regression matrix  \n",
    "generative_matrix = cca ##it could be anything with this dimension\n",
    "\n",
    "    \n",
    "def pro_att(generative_matrix,attr_path):\n",
    "\n",
    "\n",
    "    area_production = np.zeros((len_person,len_veh, len_zone))\n",
    "    for i in range(len_person):\n",
    "        for j in range(len_veh):\n",
    "            for k in range(len_zone):\n",
    "                area_production[i][j][k] = taz_distr[i][j]*taz_hh[k] * generative_matrix[i][j]\n",
    "    \n",
    "\n",
    "    taz_production = area_production.sum(axis=0).sum(axis=0)\n",
    "\n",
    "\n",
    "    ####attraction matrix\n",
    "    \n",
    "    df = pd.read_csv(attr_path)\n",
    "    rate = df[\"Rate\"]\n",
    "    employment = df[\"employment\"]\n",
    "    attraction = rate * employment\n",
    "    balance_factor = taz_production.sum()/attraction.sum()\n",
    "    taz_attraction = np.array(attraction * balance_factor)\n",
    "\n",
    "\n",
    "\n",
    "    ###saving attraction and production files in the same directory of this folder\n",
    "    \n",
    "    from numpy import savetxt\n",
    "    \n",
    "    savetxt(\"taz_production.csv\", taz_production, delimiter = ',')\n",
    "    savetxt(\"taz_attraction.csv\", taz_attraction, delimiter = ',')\n",
    "    print(taz_production.sum())\n",
    "    print(taz_attraction.sum())\n",
    "    \n",
    "    \n",
    "pro_att(generative_matrix,attr_path)"
   ]
  },
  {
   "cell_type": "code",
   "execution_count": 77,
   "metadata": {},
   "outputs": [],
   "source": [
    "area_production = np.zeros((len_person,len_veh, len_zone))\n",
    "for i in range(len_person):\n",
    "    for j in range(len_veh):\n",
    "        for k in range(len_zone):\n",
    "            area_production[i][j][k] = taz_distr[i][j]*taz_hh[k] * generative_matrix[i][j]"
   ]
  },
  {
   "cell_type": "code",
   "execution_count": 78,
   "metadata": {},
   "outputs": [
    {
     "data": {
      "text/plain": [
       "(4, 4)"
      ]
     },
     "execution_count": 78,
     "metadata": {},
     "output_type": "execute_result"
    }
   ],
   "source": [
    "cca.shape"
   ]
  },
  {
   "cell_type": "code",
   "execution_count": 79,
   "metadata": {},
   "outputs": [
    {
     "data": {
      "text/plain": [
       "(4, 4)"
      ]
     },
     "execution_count": 79,
     "metadata": {},
     "output_type": "execute_result"
    }
   ],
   "source": [
    "taz_pop.shape"
   ]
  },
  {
   "cell_type": "code",
   "execution_count": 80,
   "metadata": {},
   "outputs": [
    {
     "data": {
      "text/plain": [
       "(4, 4, 11)"
      ]
     },
     "execution_count": 80,
     "metadata": {},
     "output_type": "execute_result"
    }
   ],
   "source": [
    "area_production.shape"
   ]
  },
  {
   "cell_type": "code",
   "execution_count": null,
   "metadata": {},
   "outputs": [],
   "source": []
  },
  {
   "cell_type": "code",
   "execution_count": null,
   "metadata": {},
   "outputs": [],
   "source": []
  },
  {
   "cell_type": "code",
   "execution_count": 7,
   "metadata": {},
   "outputs": [],
   "source": [
    "#this part is frontend, no codes are developed here. ## not part of the coarse project.\n",
    "from tkinter import *\n",
    "from PIL import Image, ImageTk\n",
    "from tkinter import filedialog\n",
    "\n",
    "root = Tk()\n",
    "root.title(\"4 step moleding\")\n",
    "#root.geometry(\"500x500\")\n",
    "\n",
    "#root.iconbitmap(\"C:/Users/Payam/Desktop/ubc-logo.png\")\n",
    "\n",
    "def first_click():\n",
    "    first_top = Toplevel()\n",
    "    first_top.title(\"First Step\")\n",
    "    \n",
    "    \n",
    "    \n",
    "    def file_open():\n",
    "        first_top.filename = filedialog.askopenfilename(initialdir=\"c:\", title=\"select a file\",filetypes=((\"csv files\",\"*.csv\"),(\"all files\",\"*.*\")) )\n",
    "        path = first_top.filename\n",
    "        mca_cca(path)\n",
    "    \n",
    "    def cca_click():\n",
    "        cca_label.grid(row=2, column = 0, columnspan = 2)\n",
    "    def mca_click():\n",
    "        mca_label.grid(row=2, column = 2, columnspan = 2)\n",
    "      \n",
    "    #first_Top\n",
    "    #method will be used in attraction and production\n",
    "    method = IntVar()\n",
    "    #method.set(\"1\")\n",
    "    ccar = Radiobutton(first_top, text=\"CCA\", variable=method, value = 0)\n",
    "    mcar = Radiobutton(first_top, text=\"MCA\", variable=method, value = 1)\n",
    "\n",
    "    \n",
    "    \n",
    "    \n",
    "    open_button = Button(first_top, text = \"Select File\",padx = 50, command = file_open)\n",
    "    lbl = Label(first_top, text = \"Developed by: Payam Nasernejad\")\n",
    "    cca = Button(first_top, text = \"CCA\",padx= 40,pady = 20, command = cca_click)\n",
    "    mca = Button(first_top , text = \"MCA\",padx= 40,pady = 20, command = mca_click)\n",
    "    \n",
    "    global mca_img\n",
    "    mca_img = ImageTk.PhotoImage(Image.open(\"mca_plot.png\"))\n",
    "    mca_label = Label(first_top, image=mca_img)\n",
    "    global cca_img\n",
    "    cca_img = ImageTk.PhotoImage(Image.open(\"cca_plot.png\"))\n",
    "    cca_label = Label(first_top, image= cca_img)  \n",
    "    \n",
    "    ccar.grid(row = 1, column = 1)\n",
    "    cca.grid(row = 1, column = 0)\n",
    "    mcar.grid(row = 1, column = 3)\n",
    "    mca.grid(row = 1 , column = 2)\n",
    "    lbl.grid(row=0, column =0, columnspan = 4) \n",
    "    open_button.grid(row=3, column = 0, columnspan = 4)\n",
    "\n",
    "    global est_method\n",
    "    est_method = method.get()    \n",
    "\n",
    "#function before this cell\n",
    "\n",
    "def myclick():\n",
    "    return \n",
    "\n",
    "\n",
    "\n",
    "##root \n",
    "\n",
    "\n",
    "\n",
    "\n",
    "\n",
    "lbl = Label(root, text = \"Developed by: Payam Nasernejad\")\n",
    "first_step = Button(root, text = \"First Step\",padx= 40,pady = 20, command = first_click)\n",
    "second_step = Button(root, text = \"Second Step\",padx= 40,pady = 20, command = myclick , state= \"disabled\")\n",
    "third_step = Button(root, text = \"Third Step\",padx= 40,pady = 20,command = myclick , state= \"disabled\")\n",
    "fourth_step = Button(root, text = \"Fourth Step\", padx= 40,pady = 20,command = myclick , state= \"disabled\")\n",
    "\n",
    "\n",
    "lbl.grid(row=1, column =0, columnspan = 4) \n",
    "first_step.grid(row = 0, column = 0)\n",
    "second_step.grid(row = 0, column = 1)\n",
    "third_step.grid(row = 0, column = 2)\n",
    "fourth_step.grid(row = 0, column = 3)\n",
    "\n",
    "\n",
    "\n",
    "\n",
    "\n",
    "\n",
    "root.mainloop()"
   ]
  },
  {
   "cell_type": "code",
   "execution_count": 111,
   "metadata": {},
   "outputs": [
    {
     "data": {
      "text/plain": [
       "0"
      ]
     },
     "execution_count": 111,
     "metadata": {},
     "output_type": "execute_result"
    }
   ],
   "source": [
    "\n"
   ]
  },
  {
   "cell_type": "code",
   "execution_count": null,
   "metadata": {},
   "outputs": [],
   "source": []
  },
  {
   "cell_type": "code",
   "execution_count": null,
   "metadata": {},
   "outputs": [],
   "source": []
  }
 ],
 "metadata": {
  "kernelspec": {
   "display_name": "Python 3",
   "language": "python",
   "name": "python3"
  },
  "language_info": {
   "codemirror_mode": {
    "name": "ipython",
    "version": 3
   },
   "file_extension": ".py",
   "mimetype": "text/x-python",
   "name": "python",
   "nbconvert_exporter": "python",
   "pygments_lexer": "ipython3",
   "version": "3.7.4"
  }
 },
 "nbformat": 4,
 "nbformat_minor": 2
}
